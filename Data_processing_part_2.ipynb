{
 "cells": [
  {
   "cell_type": "markdown",
   "metadata": {},
   "source": [
    "Random select 500 wav files from a class"
   ]
  },
  {
   "cell_type": "code",
   "execution_count": null,
   "metadata": {},
   "outputs": [
    {
     "name": "stdout",
     "output_type": "stream",
     "text": [
      "Copied 500 .wav files to data_in_classes_4_seconds_v2/street_music_500\n"
     ]
    }
   ],
   "source": [
    "# import os\n",
    "# import random\n",
    "# import shutil\n",
    "\n",
    "# def copy_random_wav_files(source_dir, destination_dir, num_files=500):\n",
    "#     # Ensure the destination directory exists\n",
    "#     os.makedirs(destination_dir, exist_ok=True)\n",
    "\n",
    "#     # Get all .wav files in the source directory\n",
    "#     wav_files = [f for f in os.listdir(source_dir) if f.endswith('.wav')]\n",
    "\n",
    "#     # If there are fewer than the required number of files, copy all of them\n",
    "#     num_files_to_copy = min(num_files, len(wav_files))\n",
    "\n",
    "#     # Randomly select the files\n",
    "#     selected_files = random.sample(wav_files, num_files_to_copy)\n",
    "\n",
    "#     # Copy the selected files to the destination directory\n",
    "#     for file in selected_files:\n",
    "#         shutil.copy(os.path.join(source_dir, file), os.path.join(destination_dir, file))\n",
    "\n",
    "#     print(f\"Copied {num_files_to_copy} .wav files to {destination_dir}\")\n",
    "\n",
    "# # Example usage\n",
    "# source_path = \"data_in_classes_4_seconds_v2/street_music\"\n",
    "# destination_path = \"data_in_classes_4_seconds_v2/street_music_500\"\n",
    "# copy_random_wav_files(source_path, destination_path)"
   ]
  },
  {
   "cell_type": "code",
   "execution_count": 18,
   "metadata": {},
   "outputs": [
    {
     "name": "stdout",
     "output_type": "stream",
     "text": [
      "Copied 50 .wav files to data_in_classes_4_seconds_v2/street_music_test\n"
     ]
    }
   ],
   "source": [
    "import os\n",
    "import random\n",
    "import shutil\n",
    "\n",
    "def copy_random_wav_files(source_dir, destination_dir, num_files=50):\n",
    "    # Ensure the destination directory exists\n",
    "    os.makedirs(destination_dir, exist_ok=True)\n",
    "\n",
    "    # Get all .wav files in the source directory\n",
    "    wav_files = [f for f in os.listdir(source_dir) if f.endswith('.wav')]\n",
    "\n",
    "    # If there are fewer than the required number of files, copy all of them\n",
    "    num_files_to_copy = min(num_files, len(wav_files))\n",
    "\n",
    "    # Randomly select the files\n",
    "    selected_files = random.sample(wav_files, num_files_to_copy)\n",
    "\n",
    "    # Copy the selected files to the destination directory\n",
    "    for file in selected_files:\n",
    "        shutil.copy(os.path.join(source_dir, file), os.path.join(destination_dir, file))\n",
    "\n",
    "    print(f\"Copied {num_files_to_copy} .wav files to {destination_dir}\")\n",
    "\n",
    "# Example usage\n",
    "source_path = \"data_in_classes_4_seconds_v2/street_music_500\"\n",
    "destination_path = \"data_in_classes_4_seconds_v2/street_music_test\"\n",
    "copy_random_wav_files(source_path, destination_path)"
   ]
  },
  {
   "cell_type": "code",
   "execution_count": 26,
   "metadata": {},
   "outputs": [
    {
     "name": "stdout",
     "output_type": "stream",
     "text": [
      "Copied 450 missing .wav files to data_in_classes_4_seconds_v2/street_music_train_val\n"
     ]
    }
   ],
   "source": [
    "import os\n",
    "import shutil\n",
    "\n",
    "def copy_missing_wav_files(path1, path2, destination_path):\n",
    "    # Ensure the destination directory exists\n",
    "    os.makedirs(destination_path, exist_ok=True)\n",
    "\n",
    "    # Get all .wav files in both directories\n",
    "    files_path1 = {f for f in os.listdir(path1) if f.endswith('.wav')}\n",
    "    files_path2 = {f for f in os.listdir(path2) if f.endswith('.wav')}\n",
    "\n",
    "    # Find files in path1 that are not in path2\n",
    "    missing_files = files_path1 - files_path2\n",
    "\n",
    "    # Copy missing files to destination directory\n",
    "    for file in missing_files:\n",
    "        shutil.copy(os.path.join(path1, file), os.path.join(destination_path, file))\n",
    "\n",
    "    print(f\"Copied {len(missing_files)} missing .wav files to {destination_path}\")\n",
    "\n",
    "# Example usage\n",
    "path1 = \"data_in_classes_4_seconds_v2/street_music_500\"  # Path with 500 files\n",
    "path2 = \"data_in_classes_4_seconds_v2/street_music_test\"  # Path with 50 files\n",
    "destination = \"data_in_classes_4_seconds_v2/street_music_train_val\"  # Path to save missing files\n",
    "\n",
    "copy_missing_wav_files(path1, path2, destination)"
   ]
  },
  {
   "cell_type": "code",
   "execution_count": null,
   "metadata": {},
   "outputs": [],
   "source": []
  },
  {
   "cell_type": "code",
   "execution_count": null,
   "metadata": {},
   "outputs": [],
   "source": []
  }
 ],
 "metadata": {
  "kernelspec": {
   "display_name": "py311",
   "language": "python",
   "name": "python3"
  },
  "language_info": {
   "codemirror_mode": {
    "name": "ipython",
    "version": 3
   },
   "file_extension": ".py",
   "mimetype": "text/x-python",
   "name": "python",
   "nbconvert_exporter": "python",
   "pygments_lexer": "ipython3",
   "version": "3.11.9"
  }
 },
 "nbformat": 4,
 "nbformat_minor": 2
}
